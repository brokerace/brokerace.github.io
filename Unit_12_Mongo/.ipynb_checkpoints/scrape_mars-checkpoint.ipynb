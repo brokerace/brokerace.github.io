{
 "cells": [
  {
   "cell_type": "code",
   "execution_count": 3,
   "metadata": {},
   "outputs": [],
   "source": [
    "#this is basically a copy and paste (mostly) from mission to mars\n",
    "#import dependencies\n",
    "import pandas as pd\n",
    "import requests\n",
    "from bs4 import BeautifulSoup as bs\n",
    "from splinter import Browser"
   ]
  },
  {
   "cell_type": "code",
   "execution_count": 4,
   "metadata": {},
   "outputs": [],
   "source": [
    "def scrape():\n",
    "    url = \"https://mars.nasa.gov/news/?page=0&per_page=40&order=publish_date+desc%2Ccreated_at+desc&search=&category=19%2C165%2C184%2C204&blank_scope=Latest\"\n",
    "    browser = Browser('chrome', headless=True)\n",
    "    browser.visit(url)\n",
    "    html = browser.html\n",
    "    soup = bs(html, 'html.parser')\n",
    "    browser.quit()\n",
    "    head = soup.find_all(\"div\", class_=\"content_title\")[0].text\n",
    "    body = soup.find_all(\"div\", class_=\"article_teaser_body\")[0].text\n",
    "    url = 'https://www.jpl.nasa.gov/spaceimages/?search=&category=Mars'\n",
    "    browser = Browser('chrome', headless=True)\n",
    "    browser.visit(url)\n",
    "    html = browser.html\n",
    "    soup = bs(html, 'html.parser')\n",
    "    browser.quit()\n",
    "    image_url = 'https://www.jpl.nasa.gov' + soup.find_all(\"a\", class_= 'fancybox')[1][\"data-fancybox-href\"]\n",
    "    url = 'https://twitter.com/marswxreport?lang=en'\n",
    "    browser = Browser('chrome', headless=True)\n",
    "    browser.visit(url)\n",
    "    html = browser.html\n",
    "    soup = bs(html, 'html.parser')\n",
    "    browser.quit()\n",
    "    weather = soup.find(\"p\", class_= \"TweetTextSize TweetTextSize--normal js-tweet-text tweet-text\").text\n",
    "    url = \"https://space-facts.com/mars/\"\n",
    "    table = pd.read_html(url)\n",
    "    table_df = table[0]\n",
    "    table_df.columns = ['Variables', 'Values'] \n",
    "    table_df.set_index('Variables', inplace = True)\n",
    "    table_html = table_df.to_html()\n",
    "    url = 'https://astrogeology.usgs.gov/search/results?q=hemisphere+enhanced&k1=target&v1=Mars'\n",
    "    browser = Browser('chrome', headless=True)\n",
    "    browser.visit(url)\n",
    "    html = browser.html\n",
    "    soup = bs(html, 'html.parser')\n",
    "    browser.quit()\n",
    "    links = []\n",
    "    a = soup.find_all(\"a\", class_='itemLink product-item')\n",
    "    for x in range(len(a)):\n",
    "        link = 'https://astrogeology.usgs.gov' +a[x]['href']\n",
    "        if link not in links:\n",
    "            links.append(link)\n",
    "    hemi_image_url = []\n",
    "    for x in range(len(links)):\n",
    "        browser = Browser('chrome', headless=True)  \n",
    "        browser.visit(links[x])\n",
    "        html = browser.html\n",
    "        soup = bs(html, 'html.parser')  \n",
    "        browser.quit()\n",
    "        title = soup.find('img', class_= 'wide-image')['src']\n",
    "        url = soup.find('h2', class_= 'title').text\n",
    "        dic = {'title':title, 'img_url': url}\n",
    "        hemi_image_url.append(dic)\n",
    "        data = {\n",
    "            'head':head,\n",
    "            'body':body,\n",
    "            'image':image_url,\n",
    "            'table':table_html,\n",
    "            'hems':hemi_image_url\n",
    "        }\n",
    "        return data\n",
    "    "
   ]
  }
 ],
 "metadata": {
  "kernelspec": {
   "display_name": "Python 3",
   "language": "python",
   "name": "python3"
  },
  "language_info": {
   "codemirror_mode": {
    "name": "ipython",
    "version": 3
   },
   "file_extension": ".py",
   "mimetype": "text/x-python",
   "name": "python",
   "nbconvert_exporter": "python",
   "pygments_lexer": "ipython3",
   "version": "3.7.3"
  }
 },
 "nbformat": 4,
 "nbformat_minor": 2
}
